{
 "cells": [
  {
   "cell_type": "code",
   "execution_count": 3,
   "metadata": {},
   "outputs": [],
   "source": [
    "import pandas as pd  #数据框操作\n",
    "import numpy as np \n",
    "import matplotlib.pyplot as plt #绘图\n",
    "import matplotlib as mpl #配置字体\n",
    "from pyecharts import Geo  #地理图"
   ]
  },
  {
   "cell_type": "code",
   "execution_count": 4,
   "metadata": {},
   "outputs": [],
   "source": [
    "#这个是绘图格式，不写这个的话横坐标无法变成我们要的内容\n",
    "mpl.rcParams['font.sans-serif'] = ['SimHei']\n",
    "#配置绘图风格\n",
    "plt.rcParams['axes.labelsize'] = 8.\n",
    "plt.rcParams['xtick.labelsize'] = 12. \n",
    "plt.rcParams['ytick.labelsize'] = 12.\n",
    "plt.rcParams['legend.fontsize'] =10.\n",
    "plt.rcParams['figure.figsize'] = [8.,8.]"
   ]
  },
  {
   "cell_type": "code",
   "execution_count": 10,
   "metadata": {
    "scrolled": true
   },
   "outputs": [],
   "source": [
    "import pymongo\n",
    "\n",
    "client= pymongo.MongoClient(\"mongodb://localhost:27017/\")\n",
    "db=client.python\n",
    "items = list(db.lagou.find())\n",
    "data = pd.DataFrame(items)\n",
    "del data['_id']\n",
    "del data['page']\n",
    "print(data)"
   ]
  },
  {
   "cell_type": "code",
   "execution_count": 11,
   "metadata": {},
   "outputs": [],
   "source": [
    "data['exprience'].value_counts().plot(kind='barh')  #绘制条形图\n",
    "plt.show   #显示图片"
   ]
  },
  {
   "cell_type": "code",
   "execution_count": 15,
   "metadata": {
    "scrolled": true
   },
   "outputs": [],
   "source": [
    "data['location'].value_counts().plot(kind='pie',autopct='%1.2f%%')\n",
    "plt.show   #显示图片"
   ]
  },
  {
   "cell_type": "code",
   "execution_count": 13,
   "metadata": {},
   "outputs": [],
   "source": [
    "import re\n",
    "#从lambda一直到*1000，是一个匿名函数，*1000的原因是这里显示的是几K几K的，我们把K切割掉，只要数字，就*1000了\n",
    "data2 = list(map(lambda x:(data['location'][x],eval(re.split('k|K',data['money'][x])[0])*1000),range(len(data))))\n",
    "#再把data2框架起来\n",
    "data3 = pd.DataFrame(data2)\n",
    "#转化成geo所需要的故事，也是用匿名函数，在data3中，按照地区分组，然后根据地区来计算工资的平均值，将其变成序列后再分组\n",
    "data4 = list(map(lambda x:(data3.groupby(0).mean()[1].index[x],data3.groupby(0).mean()[1].values[x]),range(len(data3.groupby(0)))))"
   ]
  },
  {
   "cell_type": "code",
   "execution_count": 14,
   "metadata": {},
   "outputs": [],
   "source": [
    "#geo = Geo('主标题','副标题',字体颜色='白色',字体位置='中间'，宽度=1200,高度=600,背景颜色=‘#404a59')\n",
    "geo = Geo(\"全国web前端工资分布\", \"制作:Hsuna\", title_color=\"#fff\", title_pos=\"center\",width=1200, height=600, background_color='#404a59')\n",
    "\n",
    "#属性、数值对应的映射关系,attr是属性,value是该属性对应的数值，比如说北京对应15000，杭州对应10000\n",
    "attr, value =geo.cast(data4)\n",
    "\n",
    "#这个是对地图进行设置，第一个参数设置为空值，我看别人这么设置我也这么设置了，下次查查为什么，第二个参数是属性，第三个为对应数值，\n",
    "#第四个参数是可视范围,把工资区间换算成了0到300. 第五个很容易出错，我之前安装完地图还是出错的原因就是没加上maptype=''china',一定要加上，第六个图例类型写上热力图，\n",
    "#第七个参数是地图文本字体颜色为白色，第八个是标识大小，第九个是否进行可视化=True.\n",
    "geo.add(\"\", attr, value, visual_range=[0, 300],maptype='china',type='heatmap' ,visual_text_color=\"#fff\", symbol_size=15, is_visualmap=True)\n",
    "\n",
    "geo.render()\n",
    "\n",
    "geo"
   ]
  }
 ],
 "metadata": {
  "kernelspec": {
   "display_name": "Python 3",
   "language": "python",
   "name": "python3"
  },
  "language_info": {
   "codemirror_mode": {
    "name": "ipython",
    "version": 3
   },
   "file_extension": ".py",
   "mimetype": "text/x-python",
   "name": "python",
   "nbconvert_exporter": "python",
   "pygments_lexer": "ipython3",
   "version": "3.6.5"
  }
 },
 "nbformat": 4,
 "nbformat_minor": 2
}
